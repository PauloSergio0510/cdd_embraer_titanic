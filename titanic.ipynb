{
  "nbformat": 4,
  "nbformat_minor": 0,
  "metadata": {
    "colab": {
      "name": "titanic.ipynb",
      "provenance": [],
      "collapsed_sections": [],
      "toc_visible": true,
      "include_colab_link": true
    },
    "kernelspec": {
      "name": "python3",
      "display_name": "Python 3"
    }
  },
  "cells": [
    {
      "cell_type": "markdown",
      "metadata": {
        "id": "view-in-github",
        "colab_type": "text"
      },
      "source": [
        "<a href=\"https://colab.research.google.com/github/PauloSergio0510/cdd_embraer_titanic/blob/master/titanic.ipynb\" target=\"_parent\"><img src=\"https://colab.research.google.com/assets/colab-badge.svg\" alt=\"Open In Colab\"/></a>"
      ]
    },
    {
      "cell_type": "markdown",
      "metadata": {
        "id": "2ZcbbIZ1MBKX",
        "colab_type": "text"
      },
      "source": [
        "# Projeto Titanic Embraer\n",
        "Etapas\n",
        "1. Definição do Problema\n",
        "2. Obtenção dos Dados\n",
        "3. Exploração dos Dados\n",
        "4. Preparação dos Dados\n",
        "5. Modelagem\n",
        "6. Avaliação\n",
        "7. Relatório Científico\n",
        "8. Apresentação"
      ]
    },
    {
      "cell_type": "markdown",
      "metadata": {
        "id": "LTlRG8hNzNFU",
        "colab_type": "text"
      },
      "source": [
        "# Etapa 1 - Definição do Problema\n",
        "\n",
        "A construção do Titanic levou cerca de 2 anos e custou 7,5 milhões de dólares (valores da época). Com 269 metros de comprimento, 28 metros de largura e 53 metros de altura, operava com uma tripulação de 892 pessoas e poderia levar até 2435 passageiros (espalhados pelas três classes disponíveis).\n",
        "\n",
        "Pensado para ser o mais seguro e luxuoso navio da época, foi lançado ao mar em 1911, ganhando fama de ser “inafundável”.\n",
        "\n",
        "O naufrágio do Titanic teve como fatores contribuintes causas naturais (como o clima) e causas humanas (negligência e excesso de confiança). Independente das causas, o fato é que seu naufrágio matou 1502 pessoas de um total de 2224 passageiros.\n",
        "\n",
        "Embora aqueles que escaparam com vida tiveram sua boa dose de sorte, alguns grupos de pessoas eram mais propensos a escaparem da morte do que outros. Por exemplo, mulheres, crianças e passageiros da 1ª Classe. Assim, nota-se que existe algum padrão que pode ser extraído dos dados brutos."
      ]
    },
    {
      "cell_type": "markdown",
      "metadata": {
        "id": "9qZ5WbvgLh0Z",
        "colab_type": "text"
      },
      "source": [
        "# Etapa 2 - Obtenção dos Dados\n",
        "## 2.1: Importando as bibliotecas necessárias\n",
        "\n",
        "O comando import realiza a importação das biblioetecas, as bibliotecas contêm comandos uteis para o desenvolvimento do projeto.\n",
        "\n",
        "* O pacote numpy possui funções de linear álgebra.\n",
        "* O pacote Pandas possui funções de data processing, CSV file I/O.\n",
        "* O pacote matplot possui funções para criação de gráficos e visualizações de dados.\n",
        "* O pacote seaborn possui funções para análise de dados estatísticos."
      ]
    },
    {
      "cell_type": "code",
      "metadata": {
        "id": "bskDiDtxYSMl",
        "colab_type": "code",
        "colab": {}
      },
      "source": [
        "import numpy as np\n",
        "import pandas as pd\n",
        "import matplotlib.pyplot as plt\n",
        "import seaborn as sns  "
      ],
      "execution_count": 0,
      "outputs": []
    },
    {
      "cell_type": "markdown",
      "metadata": {
        "id": "kTH9k4WmMwYm",
        "colab_type": "text"
      },
      "source": [
        "## 2.2: Carregar arquivos CSV\n",
        "* conjunto de treinamento (train.csv)\n",
        "* conjunto de teste (test.csv)"
      ]
    },
    {
      "cell_type": "code",
      "metadata": {
        "id": "2fAjyUDdY5JM",
        "colab_type": "code",
        "colab": {}
      },
      "source": [
        "dadostraincsv = pd.read_csv(\"train.csv\")\n",
        "dadostestcsv = pd.read_csv(\"test.csv\")"
      ],
      "execution_count": 0,
      "outputs": []
    },
    {
      "cell_type": "markdown",
      "metadata": {
        "id": "FtPVVv23vSq4",
        "colab_type": "text"
      },
      "source": [
        "# Etapa 3 - Exploração dos Dados"
      ]
    },
    {
      "cell_type": "code",
      "metadata": {
        "id": "6VChqDk5bT9X",
        "colab_type": "code",
        "colab": {
          "base_uri": "https://localhost:8080/",
          "height": 496
        },
        "outputId": "ceb5a87f-85b8-42f6-8518-76bf3706e26a"
      },
      "source": [
        "dadostraincsv.head()"
      ],
      "execution_count": 34,
      "outputs": [
        {
          "output_type": "execute_result",
          "data": {
            "text/html": [
              "<div>\n",
              "<style scoped>\n",
              "    .dataframe tbody tr th:only-of-type {\n",
              "        vertical-align: middle;\n",
              "    }\n",
              "\n",
              "    .dataframe tbody tr th {\n",
              "        vertical-align: top;\n",
              "    }\n",
              "\n",
              "    .dataframe thead th {\n",
              "        text-align: right;\n",
              "    }\n",
              "</style>\n",
              "<table border=\"1\" class=\"dataframe\">\n",
              "  <thead>\n",
              "    <tr style=\"text-align: right;\">\n",
              "      <th></th>\n",
              "      <th>PassengerId</th>\n",
              "      <th>Survived</th>\n",
              "      <th>Pclass</th>\n",
              "      <th>Name</th>\n",
              "      <th>Sex</th>\n",
              "      <th>Age</th>\n",
              "      <th>SibSp</th>\n",
              "      <th>Parch</th>\n",
              "      <th>Ticket</th>\n",
              "      <th>Fare</th>\n",
              "      <th>Cabin</th>\n",
              "      <th>Embarked</th>\n",
              "    </tr>\n",
              "  </thead>\n",
              "  <tbody>\n",
              "    <tr>\n",
              "      <th>0</th>\n",
              "      <td>1</td>\n",
              "      <td>0</td>\n",
              "      <td>3</td>\n",
              "      <td>Braund, Mr. Owen Harris</td>\n",
              "      <td>male</td>\n",
              "      <td>22.0</td>\n",
              "      <td>1</td>\n",
              "      <td>0</td>\n",
              "      <td>A/5 21171</td>\n",
              "      <td>7.2500</td>\n",
              "      <td>NaN</td>\n",
              "      <td>S</td>\n",
              "    </tr>\n",
              "    <tr>\n",
              "      <th>1</th>\n",
              "      <td>2</td>\n",
              "      <td>1</td>\n",
              "      <td>1</td>\n",
              "      <td>Cumings, Mrs. John Bradley (Florence Briggs Th...</td>\n",
              "      <td>female</td>\n",
              "      <td>38.0</td>\n",
              "      <td>1</td>\n",
              "      <td>0</td>\n",
              "      <td>PC 17599</td>\n",
              "      <td>71.2833</td>\n",
              "      <td>C85</td>\n",
              "      <td>C</td>\n",
              "    </tr>\n",
              "    <tr>\n",
              "      <th>2</th>\n",
              "      <td>3</td>\n",
              "      <td>1</td>\n",
              "      <td>3</td>\n",
              "      <td>Heikkinen, Miss. Laina</td>\n",
              "      <td>female</td>\n",
              "      <td>26.0</td>\n",
              "      <td>0</td>\n",
              "      <td>0</td>\n",
              "      <td>STON/O2. 3101282</td>\n",
              "      <td>7.9250</td>\n",
              "      <td>NaN</td>\n",
              "      <td>S</td>\n",
              "    </tr>\n",
              "    <tr>\n",
              "      <th>3</th>\n",
              "      <td>4</td>\n",
              "      <td>1</td>\n",
              "      <td>1</td>\n",
              "      <td>Futrelle, Mrs. Jacques Heath (Lily May Peel)</td>\n",
              "      <td>female</td>\n",
              "      <td>35.0</td>\n",
              "      <td>1</td>\n",
              "      <td>0</td>\n",
              "      <td>113803</td>\n",
              "      <td>53.1000</td>\n",
              "      <td>C123</td>\n",
              "      <td>S</td>\n",
              "    </tr>\n",
              "    <tr>\n",
              "      <th>4</th>\n",
              "      <td>5</td>\n",
              "      <td>0</td>\n",
              "      <td>3</td>\n",
              "      <td>Allen, Mr. William Henry</td>\n",
              "      <td>male</td>\n",
              "      <td>35.0</td>\n",
              "      <td>0</td>\n",
              "      <td>0</td>\n",
              "      <td>373450</td>\n",
              "      <td>8.0500</td>\n",
              "      <td>NaN</td>\n",
              "      <td>S</td>\n",
              "    </tr>\n",
              "  </tbody>\n",
              "</table>\n",
              "</div>"
            ],
            "text/plain": [
              "   PassengerId  Survived  Pclass  ...     Fare Cabin  Embarked\n",
              "0            1         0       3  ...   7.2500   NaN         S\n",
              "1            2         1       1  ...  71.2833   C85         C\n",
              "2            3         1       3  ...   7.9250   NaN         S\n",
              "3            4         1       1  ...  53.1000  C123         S\n",
              "4            5         0       3  ...   8.0500   NaN         S\n",
              "\n",
              "[5 rows x 12 columns]"
            ]
          },
          "metadata": {
            "tags": []
          },
          "execution_count": 34
        }
      ]
    },
    {
      "cell_type": "markdown",
      "metadata": {
        "id": "tBxh4Juu1YYY",
        "colab_type": "text"
      },
      "source": [
        "# Etapa 4 - Preparação dos Dados"
      ]
    },
    {
      "cell_type": "markdown",
      "metadata": {
        "id": "SMabvu_kP36u",
        "colab_type": "text"
      },
      "source": [
        "4.1 Limpeza"
      ]
    },
    {
      "cell_type": "code",
      "metadata": {
        "id": "biAHq3GrZsMG",
        "colab_type": "code",
        "colab": {
          "base_uri": "https://localhost:8080/",
          "height": 204
        },
        "outputId": "2aea1906-444d-4e6c-93ab-720acac69542"
      },
      "source": [
        "def limpa(coluna,valor):\n",
        "    dadostraincsv[coluna].fillna(valor,inplace=True)\n",
        "    return dadostraincsv.head(6)\n",
        "    \n",
        "    \n",
        "def remove(colunas):\n",
        "    for i in range(0, len(colunas)):\n",
        "        dadostraincsv.drop([colunas[i]],axis = 1, inplace = True)\n",
        "    return dadostraincsv.head()\n",
        "\n",
        "colunas = ['Pclass','Fare','Ticket','Cabin','PassengerId','SibSp']\n",
        "remove(colunas)"
      ],
      "execution_count": 35,
      "outputs": [
        {
          "output_type": "execute_result",
          "data": {
            "text/html": [
              "<div>\n",
              "<style scoped>\n",
              "    .dataframe tbody tr th:only-of-type {\n",
              "        vertical-align: middle;\n",
              "    }\n",
              "\n",
              "    .dataframe tbody tr th {\n",
              "        vertical-align: top;\n",
              "    }\n",
              "\n",
              "    .dataframe thead th {\n",
              "        text-align: right;\n",
              "    }\n",
              "</style>\n",
              "<table border=\"1\" class=\"dataframe\">\n",
              "  <thead>\n",
              "    <tr style=\"text-align: right;\">\n",
              "      <th></th>\n",
              "      <th>Survived</th>\n",
              "      <th>Name</th>\n",
              "      <th>Sex</th>\n",
              "      <th>Age</th>\n",
              "      <th>Parch</th>\n",
              "      <th>Embarked</th>\n",
              "    </tr>\n",
              "  </thead>\n",
              "  <tbody>\n",
              "    <tr>\n",
              "      <th>0</th>\n",
              "      <td>0</td>\n",
              "      <td>Braund, Mr. Owen Harris</td>\n",
              "      <td>male</td>\n",
              "      <td>22.0</td>\n",
              "      <td>0</td>\n",
              "      <td>S</td>\n",
              "    </tr>\n",
              "    <tr>\n",
              "      <th>1</th>\n",
              "      <td>1</td>\n",
              "      <td>Cumings, Mrs. John Bradley (Florence Briggs Th...</td>\n",
              "      <td>female</td>\n",
              "      <td>38.0</td>\n",
              "      <td>0</td>\n",
              "      <td>C</td>\n",
              "    </tr>\n",
              "    <tr>\n",
              "      <th>2</th>\n",
              "      <td>1</td>\n",
              "      <td>Heikkinen, Miss. Laina</td>\n",
              "      <td>female</td>\n",
              "      <td>26.0</td>\n",
              "      <td>0</td>\n",
              "      <td>S</td>\n",
              "    </tr>\n",
              "    <tr>\n",
              "      <th>3</th>\n",
              "      <td>1</td>\n",
              "      <td>Futrelle, Mrs. Jacques Heath (Lily May Peel)</td>\n",
              "      <td>female</td>\n",
              "      <td>35.0</td>\n",
              "      <td>0</td>\n",
              "      <td>S</td>\n",
              "    </tr>\n",
              "    <tr>\n",
              "      <th>4</th>\n",
              "      <td>0</td>\n",
              "      <td>Allen, Mr. William Henry</td>\n",
              "      <td>male</td>\n",
              "      <td>35.0</td>\n",
              "      <td>0</td>\n",
              "      <td>S</td>\n",
              "    </tr>\n",
              "  </tbody>\n",
              "</table>\n",
              "</div>"
            ],
            "text/plain": [
              "   Survived                                               Name  ... Parch  Embarked\n",
              "0         0                            Braund, Mr. Owen Harris  ...     0         S\n",
              "1         1  Cumings, Mrs. John Bradley (Florence Briggs Th...  ...     0         C\n",
              "2         1                             Heikkinen, Miss. Laina  ...     0         S\n",
              "3         1       Futrelle, Mrs. Jacques Heath (Lily May Peel)  ...     0         S\n",
              "4         0                           Allen, Mr. William Henry  ...     0         S\n",
              "\n",
              "[5 rows x 6 columns]"
            ]
          },
          "metadata": {
            "tags": []
          },
          "execution_count": 35
        }
      ]
    },
    {
      "cell_type": "code",
      "metadata": {
        "id": "pENwMnxrZufl",
        "colab_type": "code",
        "colab": {}
      },
      "source": [
        "dadostraincsv_idade = dadostraincsv.copy()\n",
        "dadostraincsv_idade.drop(dadostraincsv[dadostraincsv['Age'].isnull() == True].index ,inplace=True)"
      ],
      "execution_count": 0,
      "outputs": []
    },
    {
      "cell_type": "markdown",
      "metadata": {
        "id": "KS8TZVuzQw-U",
        "colab_type": "text"
      },
      "source": [
        "##1"
      ]
    },
    {
      "cell_type": "code",
      "metadata": {
        "id": "Qn24V4wgaCJ8",
        "colab_type": "code",
        "colab": {}
      },
      "source": [
        "dadostraincsv['Not Survived'] = dadostraincsv['Survived'].map({0:1,1:0})"
      ],
      "execution_count": 0,
      "outputs": []
    },
    {
      "cell_type": "code",
      "metadata": {
        "id": "1CM9bgw6aDxi",
        "colab_type": "code",
        "outputId": "f8327b02-c31d-403b-e7c2-879da419da46",
        "colab": {
          "base_uri": "https://localhost:8080/",
          "height": 51
        }
      },
      "source": [
        "print('Sobreviventes     :', dadostraincsv['Survived'].value_counts()[1])\n",
        "print('Não Sobreviventes :', dadostraincsv['Survived'].value_counts()[0])"
      ],
      "execution_count": 38,
      "outputs": [
        {
          "output_type": "stream",
          "text": [
            "Sobreviventes     : 342\n",
            "Não Sobreviventes : 549\n"
          ],
          "name": "stdout"
        }
      ]
    },
    {
      "cell_type": "code",
      "metadata": {
        "id": "cqDLMc3naEzm",
        "colab_type": "code",
        "outputId": "d33e6c69-0c95-4688-84dd-ac9e03ed6182",
        "colab": {
          "base_uri": "https://localhost:8080/",
          "height": 336
        }
      },
      "source": [
        "dadostraincsv['Survived'].value_counts().plot.pie(colors=('tab:red', 'tab:blue'), \n",
        "                                       title='Qual a porcentagem dos passageiros sobreviventes?', \n",
        "                                       fontsize=13, shadow=True, startangle=90,autopct='%1.1f%%',\n",
        "                                       labels=('Não sobreviventes','Sobreviventes'),\n",
        "                                       figsize=(5,5)).set_ylabel('')"
      ],
      "execution_count": 39,
      "outputs": [
        {
          "output_type": "execute_result",
          "data": {
            "text/plain": [
              "Text(0, 0.5, '')"
            ]
          },
          "metadata": {
            "tags": []
          },
          "execution_count": 39
        },
        {
          "output_type": "display_data",
          "data": {
            "image/png": "[encoded data removed]",
            "text/plain": [
              "<Figure size 360x360 with 1 Axes>"
            ]
          },
          "metadata": {
            "tags": []
          }
        }
      ]
    },
    {
      "cell_type": "markdown",
      "metadata": {
        "id": "p_TMzvElQ2qg",
        "colab_type": "text"
      },
      "source": [
        "##2"
      ]
    },
    {
      "cell_type": "code",
      "metadata": {
        "id": "Nh79G1tOaG8s",
        "colab_type": "code",
        "outputId": "cfd792f2-ef04-4fd9-b1c8-c597e9002925",
        "colab": {
          "base_uri": "https://localhost:8080/",
          "height": 329
        }
      },
      "source": [
        "plt.figure();\n",
        "dadostraincsv_idade.hist(column='Age', color=('blue'), alpha=0.8, bins=10, figsize=(10,4))\n",
        "plt.title('Faixa Etária dos Passageiros')\n",
        "plt.xlabel('Idade')\n",
        "plt.ylabel('Frequência')"
      ],
      "execution_count": 40,
      "outputs": [
        {
          "output_type": "execute_result",
          "data": {
            "text/plain": [
              "Text(0, 0.5, 'Frequência')"
            ]
          },
          "metadata": {
            "tags": []
          },
          "execution_count": 40
        },
        {
          "output_type": "display_data",
          "data": {
            "text/plain": [
              "<Figure size 432x288 with 0 Axes>"
            ]
          },
          "metadata": {
            "tags": []
          }
        },
        {
          "output_type": "display_data",
          "data": {
            "image/png": "[encoded data removed]",
            "text/plain": [
              "<Figure size 720x288 with 1 Axes>"
            ]
          },
          "metadata": {
            "tags": [],
            "needs_background": "light"
          }
        }
      ]
    },
    {
      "cell_type": "markdown",
      "metadata": {
        "id": "GmRxFOOyQ3gz",
        "colab_type": "text"
      },
      "source": [
        "##3"
      ]
    },
    {
      "cell_type": "code",
      "metadata": {
        "id": "BaAlZLFVad07",
        "colab_type": "code",
        "outputId": "a55e6036-5f9b-476d-8cc8-01cb80cd1287",
        "colab": {
          "base_uri": "https://localhost:8080/",
          "height": 217
        }
      },
      "source": [
        "dadostraincsv_idade['Crianca_Adulto'] = 0\n",
        "dadostraincsv_idade.loc[dadostraincsv_idade[dadostraincsv_idade['Age'] < 18].index, 'Crianca_Adulto'] = 'Crianças'\n",
        "dadostraincsv_idade.loc[dadostraincsv_idade[dadostraincsv_idade['Age'] >= 18].index, 'Crianca_Adulto'] = 'Adulto'\n",
        "dadostraincsv_idade.groupby('Crianca_Adulto')[['Survived']].mean()\n",
        "\n",
        "dadostraincsv_idade.groupby('Crianca_Adulto')['Survived'].mean().plot.barh(title='4.3. Média de Sobrevivência', figsize=(10,2.5),\n",
        "                                                                color=('tab:green','tab:blue')).set_ylabel(''),plt.xlabel('')"
      ],
      "execution_count": 41,
      "outputs": [
        {
          "output_type": "execute_result",
          "data": {
            "text/plain": [
              "(Text(0, 0.5, ''), Text(0.5, 0, ''))"
            ]
          },
          "metadata": {
            "tags": []
          },
          "execution_count": 41
        },
        {
          "output_type": "display_data",
          "data": {
            "image/png": "[encoded data removed]",
            "text/plain": [
              "<Figure size 720x180 with 1 Axes>"
            ]
          },
          "metadata": {
            "tags": [],
            "needs_background": "light"
          }
        }
      ]
    },
    {
      "cell_type": "markdown",
      "metadata": {
        "id": "1bqBEkoX2xAu",
        "colab_type": "text"
      },
      "source": [
        "# Etapa 5 e 6 - Modelagem & Avaliação"
      ]
    },
    {
      "cell_type": "markdown",
      "metadata": {
        "id": "Mw4NBBb01Die",
        "colab_type": "text"
      },
      "source": [
        "# Etapa 7 - Relatório Científico"
      ]
    },
    {
      "cell_type": "markdown",
      "metadata": {
        "id": "5bPBRIf61DvO",
        "colab_type": "text"
      },
      "source": [
        "# Etapa 8 - Apresentação"
      ]
    }
  ]
}