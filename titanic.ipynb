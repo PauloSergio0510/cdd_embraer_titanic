{
  "nbformat": 4,
  "nbformat_minor": 0,
  "metadata": {
    "colab": {
      "name": "titanic.ipynb",
      "provenance": [],
      "collapsed_sections": [],
      "toc_visible": true,
      "include_colab_link": true
    },
    "kernelspec": {
      "name": "python3",
      "display_name": "Python 3"
    }
  },
  "cells": [
    {
      "cell_type": "markdown",
      "metadata": {
        "id": "view-in-github",
        "colab_type": "text"
      },
      "source": [
        "<a href=\"https://colab.research.google.com/github/PauloSergio0510/cdd_embraer_titanic/blob/master/titanic.ipynb\" target=\"_parent\"><img src=\"https://colab.research.google.com/assets/colab-badge.svg\" alt=\"Open In Colab\"/></a>"
      ]
    },
    {
      "cell_type": "markdown",
      "metadata": {
        "id": "2ZcbbIZ1MBKX",
        "colab_type": "text"
      },
      "source": [
        "# Projeto Titanic Embraer\n",
        "Etapas\n",
        "1. Definição do Problema\n",
        "2. Obtenção dos Dados\n",
        "3. Exploração dos Dados\n",
        "4. Preparação dos Dados\n",
        "5. Modelagem\n",
        "6. Avaliação\n",
        "7. Relatório Científico\n",
        "8. Apresentação"
      ]
    },
    {
      "cell_type": "markdown",
      "metadata": {
        "id": "LTlRG8hNzNFU",
        "colab_type": "text"
      },
      "source": [
        "## Etapa 1 - Definição do Problema"
      ]
    },
    {
      "cell_type": "markdown",
      "metadata": {
        "id": "kb9V4_tpzPNE",
        "colab_type": "text"
      },
      "source": [
        "A construção do Titanic levou cerca de 2 anos e custou 7,5 milhões de dólares (valores da época). Com 269 metros de comprimento, 28 metros de largura e 53 metros de altura, operava com uma tripulação de 892 pessoas e poderia levar até 2435 passageiros (espalhados pelas três classes disponíveis).\n",
        "\n",
        "Pensado para ser o mais seguro e luxuoso navio da época, foi lançado ao mar em 1911, ganhando fama de ser “inafundável”.\n",
        "\n",
        "O naufrágio do Titanic teve como fatores contribuintes causas naturais (como o clima) e causas humanas (negligência e excesso de confiança). Independente das causas, o fato é que seu naufrágio matou 1502 pessoas de um total de 2224 passageiros.\n",
        "\n",
        "Embora aqueles que escaparam com vida tiveram sua boa dose de sorte, alguns grupos de pessoas eram mais propensos a escaparem da morte do que outros. Por exemplo, mulheres, crianças e passageiros da 1ª Classe. Assim, nota-se que existe algum padrão que pode ser extraído dos dados brutos."
      ]
    },
    {
      "cell_type": "markdown",
      "metadata": {
        "id": "9qZ5WbvgLh0Z",
        "colab_type": "text"
      },
      "source": [
        "## Etapa 2 - Obtenção dos Dados"
      ]
    },
    {
      "cell_type": "markdown",
      "metadata": {
        "id": "Aq87Q4QZx-qm",
        "colab_type": "text"
      },
      "source": [
        "### 2.1: Importando as bibliotecas necessárias\n",
        "\n",
        "O comando import realiza a importação das biblioetecas, as bibliotecas contêm comandos uteis para o desenvolvimento do projeto.\n",
        "\n",
        "* O pacote numpy possui funções de linear álgebra.\n",
        "* O pacote Pandas possui funções de data processing, CSV file I/O.\n",
        "* O pacote matplot possui funções para criação de gráficos e visualizações de dados.\n",
        "* O pacote seaborn possui funções para análise de dados estatísticos."
      ]
    },
    {
      "cell_type": "code",
      "metadata": {
        "id": "bskDiDtxYSMl",
        "colab_type": "code",
        "colab": {}
      },
      "source": [
        "import numpy as np\n",
        "import pandas as pd\n",
        "import matplotlib.pyplot as plt\n",
        "import seaborn as sns  "
      ],
      "execution_count": 0,
      "outputs": []
    },
    {
      "cell_type": "markdown",
      "metadata": {
        "id": "kTH9k4WmMwYm",
        "colab_type": "text"
      },
      "source": [
        "### 2.2: Carregar arquivos CSV\n",
        "* conjunto de treinamento (train.csv)\n",
        "* conjunto de teste (test.csv)"
      ]
    },
    {
      "cell_type": "code",
      "metadata": {
        "id": "2fAjyUDdY5JM",
        "colab_type": "code",
        "colab": {}
      },
      "source": [
        "dadostraincsv = pd.read_csv(\"train.csv\")\n",
        "dadostestcsv = pd.read_csv(\"test.csv\")"
      ],
      "execution_count": 0,
      "outputs": []
    },
    {
      "cell_type": "markdown",
      "metadata": {
        "id": "FtPVVv23vSq4",
        "colab_type": "text"
      },
      "source": [
        "## Etapa 3 - Exploração dos Dados"
      ]
    },
    {
      "cell_type": "markdown",
      "metadata": {
        "id": "FgDMyi6YhXjA",
        "colab_type": "text"
      },
      "source": [
        "### 3.1: Listar a quantidade de variáveis (colunas) e o tamanho (linhas) do conjunto treinamento (train.csv).\n",
        "* A função de saída print() exibe o resultado na tela."
      ]
    },
    {
      "cell_type": "code",
      "metadata": {
        "id": "ZjvBuxfPhO3n",
        "colab_type": "code",
        "outputId": "3d1fc89c-3635-4156-be44-1cd7cc612c91",
        "colab": {
          "base_uri": "https://localhost:8080/",
          "height": 51
        }
      },
      "source": [
        "print(\"Variáveis:\\t{}\\nEntradas:\\t{}\".format(dadostraincsv.shape[1], dadostraincsv.shape[0]))"
      ],
      "execution_count": 115,
      "outputs": [
        {
          "output_type": "stream",
          "text": [
            "Variáveis:\t12\n",
            "Entradas:\t891\n"
          ],
          "name": "stdout"
        }
      ]
    },
    {
      "cell_type": "markdown",
      "metadata": {
        "id": "5tP3nAsvhh0k",
        "colab_type": "text"
      },
      "source": [
        "### 3.2: Exibir o tipo de cada variável da Dataframe.\n",
        "* A função de saída display() exibe o dataframe formatado."
      ]
    },
    {
      "cell_type": "code",
      "metadata": {
        "id": "nqWC97APhPFb",
        "colab_type": "code",
        "outputId": "26c728c2-156b-4797-8c84-1f068caf3839",
        "colab": {
          "base_uri": "https://localhost:8080/",
          "height": 238
        }
      },
      "source": [
        "display(dadostraincsv.dtypes)"
      ],
      "execution_count": 116,
      "outputs": [
        {
          "output_type": "display_data",
          "data": {
            "text/plain": [
              "PassengerId      int64\n",
              "Survived         int64\n",
              "Pclass           int64\n",
              "Name            object\n",
              "Sex             object\n",
              "Age            float64\n",
              "SibSp            int64\n",
              "Parch            int64\n",
              "Ticket          object\n",
              "Fare           float64\n",
              "Cabin           object\n",
              "Embarked        object\n",
              "dtype: object"
            ]
          },
          "metadata": {
            "tags": []
          }
        }
      ]
    },
    {
      "cell_type": "markdown",
      "metadata": {
        "id": "Z-_zfXiXmVAn",
        "colab_type": "text"
      },
      "source": [
        "### 3.3: Exibir as 5 primeiras entradas do conjunto de dados.\n",
        "Para exibir uma quantidade maior de entradas adicionar o valor como parâmetro da função head(). Por exemplo: display(dadostraincsv.head(50))"
      ]
    },
    {
      "cell_type": "code",
      "metadata": {
        "id": "6VChqDk5bT9X",
        "colab_type": "code",
        "outputId": "fca8ddd7-cb50-4771-f41a-e8ce614d5e0f",
        "colab": {
          "base_uri": "https://localhost:8080/",
          "height": 204
        }
      },
      "source": [
        "dadostraincsv.head()"
      ],
      "execution_count": 117,
      "outputs": [
        {
          "output_type": "execute_result",
          "data": {
            "text/html": [
              "<div>\n",
              "<style scoped>\n",
              "    .dataframe tbody tr th:only-of-type {\n",
              "        vertical-align: middle;\n",
              "    }\n",
              "\n",
              "    .dataframe tbody tr th {\n",
              "        vertical-align: top;\n",
              "    }\n",
              "\n",
              "    .dataframe thead th {\n",
              "        text-align: right;\n",
              "    }\n",
              "</style>\n",
              "<table border=\"1\" class=\"dataframe\">\n",
              "  <thead>\n",
              "    <tr style=\"text-align: right;\">\n",
              "      <th></th>\n",
              "      <th>PassengerId</th>\n",
              "      <th>Survived</th>\n",
              "      <th>Pclass</th>\n",
              "      <th>Name</th>\n",
              "      <th>Sex</th>\n",
              "      <th>Age</th>\n",
              "      <th>SibSp</th>\n",
              "      <th>Parch</th>\n",
              "      <th>Ticket</th>\n",
              "      <th>Fare</th>\n",
              "      <th>Cabin</th>\n",
              "      <th>Embarked</th>\n",
              "    </tr>\n",
              "  </thead>\n",
              "  <tbody>\n",
              "    <tr>\n",
              "      <th>0</th>\n",
              "      <td>1</td>\n",
              "      <td>0</td>\n",
              "      <td>3</td>\n",
              "      <td>Braund, Mr. Owen Harris</td>\n",
              "      <td>male</td>\n",
              "      <td>22.0</td>\n",
              "      <td>1</td>\n",
              "      <td>0</td>\n",
              "      <td>A/5 21171</td>\n",
              "      <td>7.2500</td>\n",
              "      <td>NaN</td>\n",
              "      <td>S</td>\n",
              "    </tr>\n",
              "    <tr>\n",
              "      <th>1</th>\n",
              "      <td>2</td>\n",
              "      <td>1</td>\n",
              "      <td>1</td>\n",
              "      <td>Cumings, Mrs. John Bradley (Florence Briggs Th...</td>\n",
              "      <td>female</td>\n",
              "      <td>38.0</td>\n",
              "      <td>1</td>\n",
              "      <td>0</td>\n",
              "      <td>PC 17599</td>\n",
              "      <td>71.2833</td>\n",
              "      <td>C85</td>\n",
              "      <td>C</td>\n",
              "    </tr>\n",
              "    <tr>\n",
              "      <th>2</th>\n",
              "      <td>3</td>\n",
              "      <td>1</td>\n",
              "      <td>3</td>\n",
              "      <td>Heikkinen, Miss. Laina</td>\n",
              "      <td>female</td>\n",
              "      <td>26.0</td>\n",
              "      <td>0</td>\n",
              "      <td>0</td>\n",
              "      <td>STON/O2. 3101282</td>\n",
              "      <td>7.9250</td>\n",
              "      <td>NaN</td>\n",
              "      <td>S</td>\n",
              "    </tr>\n",
              "    <tr>\n",
              "      <th>3</th>\n",
              "      <td>4</td>\n",
              "      <td>1</td>\n",
              "      <td>1</td>\n",
              "      <td>Futrelle, Mrs. Jacques Heath (Lily May Peel)</td>\n",
              "      <td>female</td>\n",
              "      <td>35.0</td>\n",
              "      <td>1</td>\n",
              "      <td>0</td>\n",
              "      <td>113803</td>\n",
              "      <td>53.1000</td>\n",
              "      <td>C123</td>\n",
              "      <td>S</td>\n",
              "    </tr>\n",
              "    <tr>\n",
              "      <th>4</th>\n",
              "      <td>5</td>\n",
              "      <td>0</td>\n",
              "      <td>3</td>\n",
              "      <td>Allen, Mr. William Henry</td>\n",
              "      <td>male</td>\n",
              "      <td>35.0</td>\n",
              "      <td>0</td>\n",
              "      <td>0</td>\n",
              "      <td>373450</td>\n",
              "      <td>8.0500</td>\n",
              "      <td>NaN</td>\n",
              "      <td>S</td>\n",
              "    </tr>\n",
              "  </tbody>\n",
              "</table>\n",
              "</div>"
            ],
            "text/plain": [
              "   PassengerId  Survived  Pclass  ...     Fare Cabin  Embarked\n",
              "0            1         0       3  ...   7.2500   NaN         S\n",
              "1            2         1       1  ...  71.2833   C85         C\n",
              "2            3         1       3  ...   7.9250   NaN         S\n",
              "3            4         1       1  ...  53.1000  C123         S\n",
              "4            5         0       3  ...   8.0500   NaN         S\n",
              "\n",
              "[5 rows x 12 columns]"
            ]
          },
          "metadata": {
            "tags": []
          },
          "execution_count": 117
        }
      ]
    },
    {
      "cell_type": "markdown",
      "metadata": {
        "id": "mxPogfWtilHT",
        "colab_type": "text"
      },
      "source": [
        "### 3.4: Exibir a distribuição estatística dos dados:"
      ]
    },
    {
      "cell_type": "code",
      "metadata": {
        "id": "pcPrBbG7hPUh",
        "colab_type": "code",
        "outputId": "4f3a3660-b0ab-4bff-b20c-9302269e0463",
        "colab": {
          "base_uri": "https://localhost:8080/",
          "height": 297
        }
      },
      "source": [
        "dadostraincsv.describe()"
      ],
      "execution_count": 118,
      "outputs": [
        {
          "output_type": "execute_result",
          "data": {
            "text/html": [
              "<div>\n",
              "<style scoped>\n",
              "    .dataframe tbody tr th:only-of-type {\n",
              "        vertical-align: middle;\n",
              "    }\n",
              "\n",
              "    .dataframe tbody tr th {\n",
              "        vertical-align: top;\n",
              "    }\n",
              "\n",
              "    .dataframe thead th {\n",
              "        text-align: right;\n",
              "    }\n",
              "</style>\n",
              "<table border=\"1\" class=\"dataframe\">\n",
              "  <thead>\n",
              "    <tr style=\"text-align: right;\">\n",
              "      <th></th>\n",
              "      <th>PassengerId</th>\n",
              "      <th>Survived</th>\n",
              "      <th>Pclass</th>\n",
              "      <th>Age</th>\n",
              "      <th>SibSp</th>\n",
              "      <th>Parch</th>\n",
              "      <th>Fare</th>\n",
              "    </tr>\n",
              "  </thead>\n",
              "  <tbody>\n",
              "    <tr>\n",
              "      <th>count</th>\n",
              "      <td>891.000000</td>\n",
              "      <td>891.000000</td>\n",
              "      <td>891.000000</td>\n",
              "      <td>714.000000</td>\n",
              "      <td>891.000000</td>\n",
              "      <td>891.000000</td>\n",
              "      <td>891.000000</td>\n",
              "    </tr>\n",
              "    <tr>\n",
              "      <th>mean</th>\n",
              "      <td>446.000000</td>\n",
              "      <td>0.383838</td>\n",
              "      <td>2.308642</td>\n",
              "      <td>29.699118</td>\n",
              "      <td>0.523008</td>\n",
              "      <td>0.381594</td>\n",
              "      <td>32.204208</td>\n",
              "    </tr>\n",
              "    <tr>\n",
              "      <th>std</th>\n",
              "      <td>257.353842</td>\n",
              "      <td>0.486592</td>\n",
              "      <td>0.836071</td>\n",
              "      <td>14.526497</td>\n",
              "      <td>1.102743</td>\n",
              "      <td>0.806057</td>\n",
              "      <td>49.693429</td>\n",
              "    </tr>\n",
              "    <tr>\n",
              "      <th>min</th>\n",
              "      <td>1.000000</td>\n",
              "      <td>0.000000</td>\n",
              "      <td>1.000000</td>\n",
              "      <td>0.420000</td>\n",
              "      <td>0.000000</td>\n",
              "      <td>0.000000</td>\n",
              "      <td>0.000000</td>\n",
              "    </tr>\n",
              "    <tr>\n",
              "      <th>25%</th>\n",
              "      <td>223.500000</td>\n",
              "      <td>0.000000</td>\n",
              "      <td>2.000000</td>\n",
              "      <td>20.125000</td>\n",
              "      <td>0.000000</td>\n",
              "      <td>0.000000</td>\n",
              "      <td>7.910400</td>\n",
              "    </tr>\n",
              "    <tr>\n",
              "      <th>50%</th>\n",
              "      <td>446.000000</td>\n",
              "      <td>0.000000</td>\n",
              "      <td>3.000000</td>\n",
              "      <td>28.000000</td>\n",
              "      <td>0.000000</td>\n",
              "      <td>0.000000</td>\n",
              "      <td>14.454200</td>\n",
              "    </tr>\n",
              "    <tr>\n",
              "      <th>75%</th>\n",
              "      <td>668.500000</td>\n",
              "      <td>1.000000</td>\n",
              "      <td>3.000000</td>\n",
              "      <td>38.000000</td>\n",
              "      <td>1.000000</td>\n",
              "      <td>0.000000</td>\n",
              "      <td>31.000000</td>\n",
              "    </tr>\n",
              "    <tr>\n",
              "      <th>max</th>\n",
              "      <td>891.000000</td>\n",
              "      <td>1.000000</td>\n",
              "      <td>3.000000</td>\n",
              "      <td>80.000000</td>\n",
              "      <td>8.000000</td>\n",
              "      <td>6.000000</td>\n",
              "      <td>512.329200</td>\n",
              "    </tr>\n",
              "  </tbody>\n",
              "</table>\n",
              "</div>"
            ],
            "text/plain": [
              "       PassengerId    Survived      Pclass  ...       SibSp       Parch        Fare\n",
              "count   891.000000  891.000000  891.000000  ...  891.000000  891.000000  891.000000\n",
              "mean    446.000000    0.383838    2.308642  ...    0.523008    0.381594   32.204208\n",
              "std     257.353842    0.486592    0.836071  ...    1.102743    0.806057   49.693429\n",
              "min       1.000000    0.000000    1.000000  ...    0.000000    0.000000    0.000000\n",
              "25%     223.500000    0.000000    2.000000  ...    0.000000    0.000000    7.910400\n",
              "50%     446.000000    0.000000    3.000000  ...    0.000000    0.000000   14.454200\n",
              "75%     668.500000    1.000000    3.000000  ...    1.000000    0.000000   31.000000\n",
              "max     891.000000    1.000000    3.000000  ...    8.000000    6.000000  512.329200\n",
              "\n",
              "[8 rows x 7 columns]"
            ]
          },
          "metadata": {
            "tags": []
          },
          "execution_count": 118
        }
      ]
    },
    {
      "cell_type": "markdown",
      "metadata": {
        "id": "peMOk_HRizI0",
        "colab_type": "text"
      },
      "source": [
        "### 3.5: Exibir histograma das variáveis numéricas:"
      ]
    },
    {
      "cell_type": "code",
      "metadata": {
        "id": "fLMlkczqijSn",
        "colab_type": "code",
        "outputId": "4777e5ed-9031-427b-803f-ad1724b3323f",
        "colab": {
          "base_uri": "https://localhost:8080/",
          "height": 499
        }
      },
      "source": [
        "dadostraincsv.hist(figsize=(10,8));"
      ],
      "execution_count": 119,
      "outputs": [
        {
          "output_type": "display_data",
          "data": {
            "image/png": "[encoded data removed]",
            "text/plain": [
              "<Figure size 720x576 with 9 Axes>"
            ]
          },
          "metadata": {
            "tags": [],
            "needs_background": "light"
          }
        }
      ]
    },
    {
      "cell_type": "markdown",
      "metadata": {
        "id": "SEaIMwRywXy7",
        "colab_type": "text"
      },
      "source": [
        "#### 3.5.1: Qual a porcentagem dos passageiros sobreviventes?"
      ]
    },
    {
      "cell_type": "code",
      "metadata": {
        "id": "wHAvz9QYPsTv",
        "colab_type": "code",
        "colab": {}
      },
      "source": [
        "dadostraincsv_idade = dadostraincsv.copy()\n",
        "dadostraincsv_idade.drop(dadostraincsv[dadostraincsv['Age'].isnull() == True].index ,inplace=True)"
      ],
      "execution_count": 0,
      "outputs": []
    },
    {
      "cell_type": "code",
      "metadata": {
        "id": "1CM9bgw6aDxi",
        "colab_type": "code",
        "outputId": "3d60f750-3733-4f33-d294-9234afca6330",
        "colab": {
          "base_uri": "https://localhost:8080/",
          "height": 51
        }
      },
      "source": [
        "dadostraincsv['Not Survived'] = dadostraincsv['Survived'].map({0:1,1:0})\n",
        "print('Sobreviventes     :', dadostraincsv['Survived'].value_counts()[1])\n",
        "print('Não Sobreviventes :', dadostraincsv['Survived'].value_counts()[0])"
      ],
      "execution_count": 121,
      "outputs": [
        {
          "output_type": "stream",
          "text": [
            "Sobreviventes     : 342\n",
            "Não Sobreviventes : 549\n"
          ],
          "name": "stdout"
        }
      ]
    },
    {
      "cell_type": "code",
      "metadata": {
        "id": "cqDLMc3naEzm",
        "colab_type": "code",
        "outputId": "dc71f363-fa65-4b41-851c-8dcb561ecead",
        "colab": {
          "base_uri": "https://localhost:8080/",
          "height": 336
        }
      },
      "source": [
        "dadostraincsv['Survived'].value_counts().plot.pie(colors=('tab:red', 'tab:blue'), \n",
        "                                       title='Qual a porcentagem dos passageiros sobreviventes?', \n",
        "                                       fontsize=13, shadow=True, startangle=90,autopct='%1.1f%%',\n",
        "                                       labels=('Não sobreviventes','Sobreviventes'),\n",
        "                                       figsize=(5,5)).set_ylabel('')"
      ],
      "execution_count": 122,
      "outputs": [
        {
          "output_type": "execute_result",
          "data": {
            "text/plain": [
              "Text(0, 0.5, '')"
            ]
          },
          "metadata": {
            "tags": []
          },
          "execution_count": 122
        },
        {
          "output_type": "display_data",
          "data": {
            "image/png": "[encoded data removed]",
            "text/plain": [
              "<Figure size 360x360 with 1 Axes>"
            ]
          },
          "metadata": {
            "tags": []
          }
        }
      ]
    },
    {
      "cell_type": "markdown",
      "metadata": {
        "id": "eS_AuIzfwhIR",
        "colab_type": "text"
      },
      "source": [
        "#### 3.5.2: Qual a faixa etária dos passageiros do Titanic?"
      ]
    },
    {
      "cell_type": "code",
      "metadata": {
        "id": "Nh79G1tOaG8s",
        "colab_type": "code",
        "outputId": "d17c1e3f-3f3e-4de2-9c9e-10e385383084",
        "colab": {
          "base_uri": "https://localhost:8080/",
          "height": 329
        }
      },
      "source": [
        "plt.figure();\n",
        "dadostraincsv_idade.hist(column='Age', color=('blue'), alpha=0.8, bins=10, figsize=(10,4))\n",
        "plt.title('Faixa Etária dos Passageiros')\n",
        "plt.xlabel('Idade')\n",
        "plt.ylabel('Frequência')"
      ],
      "execution_count": 123,
      "outputs": [
        {
          "output_type": "execute_result",
          "data": {
            "text/plain": [
              "Text(0, 0.5, 'Frequência')"
            ]
          },
          "metadata": {
            "tags": []
          },
          "execution_count": 123
        },
        {
          "output_type": "display_data",
          "data": {
            "text/plain": [
              "<Figure size 432x288 with 0 Axes>"
            ]
          },
          "metadata": {
            "tags": []
          }
        },
        {
          "output_type": "display_data",
          "data": {
            "image/png": "[encoded data removed]",
            "text/plain": [
              "<Figure size 720x288 with 1 Axes>"
            ]
          },
          "metadata": {
            "tags": [],
            "needs_background": "light"
          }
        }
      ]
    },
    {
      "cell_type": "markdown",
      "metadata": {
        "id": "Vq3rb2o9wprf",
        "colab_type": "text"
      },
      "source": [
        "#### 3.5.3: As Crianças, sobreviveram mais dos que os Adultos?"
      ]
    },
    {
      "cell_type": "code",
      "metadata": {
        "id": "BaAlZLFVad07",
        "colab_type": "code",
        "outputId": "660f3b2c-de79-4310-c082-408dd62bf4ce",
        "colab": {
          "base_uri": "https://localhost:8080/",
          "height": 217
        }
      },
      "source": [
        "dadostraincsv_idade['Crianca_Adulto'] = 0\n",
        "dadostraincsv_idade.loc[dadostraincsv_idade[dadostraincsv_idade['Age'] < 18].index, 'Crianca_Adulto'] = 'Crianças'\n",
        "dadostraincsv_idade.loc[dadostraincsv_idade[dadostraincsv_idade['Age'] >= 18].index, 'Crianca_Adulto'] = 'Adulto'\n",
        "dadostraincsv_idade.groupby('Crianca_Adulto')[['Survived']].mean()\n",
        "\n",
        "dadostraincsv_idade.groupby('Crianca_Adulto')['Survived'].mean().plot.barh(title='4.3. Média de Sobrevivência', figsize=(10,2.5),\n",
        "                                                                color=('tab:green','tab:blue')).set_ylabel(''),plt.xlabel('')"
      ],
      "execution_count": 124,
      "outputs": [
        {
          "output_type": "execute_result",
          "data": {
            "text/plain": [
              "(Text(0, 0.5, ''), Text(0.5, 0, ''))"
            ]
          },
          "metadata": {
            "tags": []
          },
          "execution_count": 124
        },
        {
          "output_type": "display_data",
          "data": {
            "image/png": "[encoded data removed]",
            "text/plain": [
              "<Figure size 720x180 with 1 Axes>"
            ]
          },
          "metadata": {
            "tags": [],
            "needs_background": "light"
          }
        }
      ]
    },
    {
      "cell_type": "markdown",
      "metadata": {
        "id": "tBxh4Juu1YYY",
        "colab_type": "text"
      },
      "source": [
        "## Etapa 4 - Preparação dos Dados"
      ]
    },
    {
      "cell_type": "markdown",
      "metadata": {
        "id": "dE345wqippS4",
        "colab_type": "text"
      },
      "source": [
        "### 4.1: Juntar os conjuntos de dados de treino e teste."
      ]
    },
    {
      "cell_type": "code",
      "metadata": {
        "id": "OPrXm4gUpsN0",
        "colab_type": "code",
        "outputId": "d0a05bcc-c368-47d9-ac11-c6bb9336cb56",
        "colab": {
          "base_uri": "https://localhost:8080/",
          "height": 34
        }
      },
      "source": [
        "# salvar os índices dos datasets para recuperação posterior\n",
        "dadostraincsv_idx = dadostraincsv.shape[0]\n",
        "dadostestcsv_idx = dadostestcsv.shape[0]\n",
        "\n",
        "# salvar PassengerId para submissao ao Kaggle\n",
        "passengerId = dadostestcsv['PassengerId']\n",
        "\n",
        "# extrair coluna 'Survived' e excluir ela do dataset treino\n",
        "target = dadostraincsv.Survived.copy()\n",
        "dadostraincsv.drop(['Survived'], axis=1, inplace=True)\n",
        "\n",
        "# concatenar treino e teste em um único DataFrame\n",
        "df_merged = pd.concat(objs=[dadostraincsv, dadostestcsv], axis=0).reset_index(drop=True)\n",
        "\n",
        "print(\"df_merged.shape: ({} x {})\".format(df_merged.shape[0], df_merged.shape[1]))"
      ],
      "execution_count": 125,
      "outputs": [
        {
          "output_type": "stream",
          "text": [
            "df_merged.shape: (1309 x 12)\n"
          ],
          "name": "stdout"
        }
      ]
    },
    {
      "cell_type": "markdown",
      "metadata": {
        "id": "7btPk4q3pu-c",
        "colab_type": "text"
      },
      "source": [
        "### 4.2: Selecionar as features.\n",
        "Como qualquer conjuto dedos, pode existir a necessidade de retirar features que não serão utilizadas no modelo de Machine Learning."
      ]
    },
    {
      "cell_type": "code",
      "metadata": {
        "id": "9zKFZHaWpyNE",
        "colab_type": "code",
        "outputId": "9348eb0c-276e-41ac-a92c-1dbea8a9e431",
        "colab": {
          "base_uri": "https://localhost:8080/",
          "height": 391
        }
      },
      "source": [
        "display(df_merged.head())\n",
        "\n",
        "#Função drop remove as colunas do DataFrame.\n",
        "df_merged.drop(['PassengerId', 'Name', 'Ticket', 'Cabin'], axis=1, inplace=True)\n",
        "\n",
        "#Exibir as 5 primeiras entradas do conjunto de dados depois de remover features.\n",
        "display(df_merged.head())"
      ],
      "execution_count": 126,
      "outputs": [
        {
          "output_type": "display_data",
          "data": {
            "text/html": [
              "<div>\n",
              "<style scoped>\n",
              "    .dataframe tbody tr th:only-of-type {\n",
              "        vertical-align: middle;\n",
              "    }\n",
              "\n",
              "    .dataframe tbody tr th {\n",
              "        vertical-align: top;\n",
              "    }\n",
              "\n",
              "    .dataframe thead th {\n",
              "        text-align: right;\n",
              "    }\n",
              "</style>\n",
              "<table border=\"1\" class=\"dataframe\">\n",
              "  <thead>\n",
              "    <tr style=\"text-align: right;\">\n",
              "      <th></th>\n",
              "      <th>PassengerId</th>\n",
              "      <th>Pclass</th>\n",
              "      <th>Name</th>\n",
              "      <th>Sex</th>\n",
              "      <th>Age</th>\n",
              "      <th>SibSp</th>\n",
              "      <th>Parch</th>\n",
              "      <th>Ticket</th>\n",
              "      <th>Fare</th>\n",
              "      <th>Cabin</th>\n",
              "      <th>Embarked</th>\n",
              "      <th>Not Survived</th>\n",
              "    </tr>\n",
              "  </thead>\n",
              "  <tbody>\n",
              "    <tr>\n",
              "      <th>0</th>\n",
              "      <td>1</td>\n",
              "      <td>3</td>\n",
              "      <td>Braund, Mr. Owen Harris</td>\n",
              "      <td>male</td>\n",
              "      <td>22.0</td>\n",
              "      <td>1</td>\n",
              "      <td>0</td>\n",
              "      <td>A/5 21171</td>\n",
              "      <td>7.2500</td>\n",
              "      <td>NaN</td>\n",
              "      <td>S</td>\n",
              "      <td>1.0</td>\n",
              "    </tr>\n",
              "    <tr>\n",
              "      <th>1</th>\n",
              "      <td>2</td>\n",
              "      <td>1</td>\n",
              "      <td>Cumings, Mrs. John Bradley (Florence Briggs Th...</td>\n",
              "      <td>female</td>\n",
              "      <td>38.0</td>\n",
              "      <td>1</td>\n",
              "      <td>0</td>\n",
              "      <td>PC 17599</td>\n",
              "      <td>71.2833</td>\n",
              "      <td>C85</td>\n",
              "      <td>C</td>\n",
              "      <td>0.0</td>\n",
              "    </tr>\n",
              "    <tr>\n",
              "      <th>2</th>\n",
              "      <td>3</td>\n",
              "      <td>3</td>\n",
              "      <td>Heikkinen, Miss. Laina</td>\n",
              "      <td>female</td>\n",
              "      <td>26.0</td>\n",
              "      <td>0</td>\n",
              "      <td>0</td>\n",
              "      <td>STON/O2. 3101282</td>\n",
              "      <td>7.9250</td>\n",
              "      <td>NaN</td>\n",
              "      <td>S</td>\n",
              "      <td>0.0</td>\n",
              "    </tr>\n",
              "    <tr>\n",
              "      <th>3</th>\n",
              "      <td>4</td>\n",
              "      <td>1</td>\n",
              "      <td>Futrelle, Mrs. Jacques Heath (Lily May Peel)</td>\n",
              "      <td>female</td>\n",
              "      <td>35.0</td>\n",
              "      <td>1</td>\n",
              "      <td>0</td>\n",
              "      <td>113803</td>\n",
              "      <td>53.1000</td>\n",
              "      <td>C123</td>\n",
              "      <td>S</td>\n",
              "      <td>0.0</td>\n",
              "    </tr>\n",
              "    <tr>\n",
              "      <th>4</th>\n",
              "      <td>5</td>\n",
              "      <td>3</td>\n",
              "      <td>Allen, Mr. William Henry</td>\n",
              "      <td>male</td>\n",
              "      <td>35.0</td>\n",
              "      <td>0</td>\n",
              "      <td>0</td>\n",
              "      <td>373450</td>\n",
              "      <td>8.0500</td>\n",
              "      <td>NaN</td>\n",
              "      <td>S</td>\n",
              "      <td>1.0</td>\n",
              "    </tr>\n",
              "  </tbody>\n",
              "</table>\n",
              "</div>"
            ],
            "text/plain": [
              "   PassengerId  Pclass  ... Embarked Not Survived\n",
              "0            1       3  ...        S          1.0\n",
              "1            2       1  ...        C          0.0\n",
              "2            3       3  ...        S          0.0\n",
              "3            4       1  ...        S          0.0\n",
              "4            5       3  ...        S          1.0\n",
              "\n",
              "[5 rows x 12 columns]"
            ]
          },
          "metadata": {
            "tags": []
          }
        },
        {
          "output_type": "display_data",
          "data": {
            "text/html": [
              "<div>\n",
              "<style scoped>\n",
              "    .dataframe tbody tr th:only-of-type {\n",
              "        vertical-align: middle;\n",
              "    }\n",
              "\n",
              "    .dataframe tbody tr th {\n",
              "        vertical-align: top;\n",
              "    }\n",
              "\n",
              "    .dataframe thead th {\n",
              "        text-align: right;\n",
              "    }\n",
              "</style>\n",
              "<table border=\"1\" class=\"dataframe\">\n",
              "  <thead>\n",
              "    <tr style=\"text-align: right;\">\n",
              "      <th></th>\n",
              "      <th>Pclass</th>\n",
              "      <th>Sex</th>\n",
              "      <th>Age</th>\n",
              "      <th>SibSp</th>\n",
              "      <th>Parch</th>\n",
              "      <th>Fare</th>\n",
              "      <th>Embarked</th>\n",
              "      <th>Not Survived</th>\n",
              "    </tr>\n",
              "  </thead>\n",
              "  <tbody>\n",
              "    <tr>\n",
              "      <th>0</th>\n",
              "      <td>3</td>\n",
              "      <td>male</td>\n",
              "      <td>22.0</td>\n",
              "      <td>1</td>\n",
              "      <td>0</td>\n",
              "      <td>7.2500</td>\n",
              "      <td>S</td>\n",
              "      <td>1.0</td>\n",
              "    </tr>\n",
              "    <tr>\n",
              "      <th>1</th>\n",
              "      <td>1</td>\n",
              "      <td>female</td>\n",
              "      <td>38.0</td>\n",
              "      <td>1</td>\n",
              "      <td>0</td>\n",
              "      <td>71.2833</td>\n",
              "      <td>C</td>\n",
              "      <td>0.0</td>\n",
              "    </tr>\n",
              "    <tr>\n",
              "      <th>2</th>\n",
              "      <td>3</td>\n",
              "      <td>female</td>\n",
              "      <td>26.0</td>\n",
              "      <td>0</td>\n",
              "      <td>0</td>\n",
              "      <td>7.9250</td>\n",
              "      <td>S</td>\n",
              "      <td>0.0</td>\n",
              "    </tr>\n",
              "    <tr>\n",
              "      <th>3</th>\n",
              "      <td>1</td>\n",
              "      <td>female</td>\n",
              "      <td>35.0</td>\n",
              "      <td>1</td>\n",
              "      <td>0</td>\n",
              "      <td>53.1000</td>\n",
              "      <td>S</td>\n",
              "      <td>0.0</td>\n",
              "    </tr>\n",
              "    <tr>\n",
              "      <th>4</th>\n",
              "      <td>3</td>\n",
              "      <td>male</td>\n",
              "      <td>35.0</td>\n",
              "      <td>0</td>\n",
              "      <td>0</td>\n",
              "      <td>8.0500</td>\n",
              "      <td>S</td>\n",
              "      <td>1.0</td>\n",
              "    </tr>\n",
              "  </tbody>\n",
              "</table>\n",
              "</div>"
            ],
            "text/plain": [
              "   Pclass     Sex   Age  SibSp  Parch     Fare Embarked  Not Survived\n",
              "0       3    male  22.0      1      0   7.2500        S           1.0\n",
              "1       1  female  38.0      1      0  71.2833        C           0.0\n",
              "2       3  female  26.0      0      0   7.9250        S           0.0\n",
              "3       1  female  35.0      1      0  53.1000        S           0.0\n",
              "4       3    male  35.0      0      0   8.0500        S           1.0"
            ]
          },
          "metadata": {
            "tags": []
          }
        }
      ]
    },
    {
      "cell_type": "markdown",
      "metadata": {
        "id": "Z8n-c47IqAD7",
        "colab_type": "text"
      },
      "source": [
        "### 4.3: Exibir os valores faltantes nos datasets de treino e teste."
      ]
    },
    {
      "cell_type": "code",
      "metadata": {
        "id": "9QUmMs9tqqs4",
        "colab_type": "code",
        "outputId": "3cfdc3cb-efef-4fdb-cd60-28845d08a639",
        "colab": {
          "base_uri": "https://localhost:8080/",
          "height": 170
        }
      },
      "source": [
        "df_merged.isnull().sum()"
      ],
      "execution_count": 127,
      "outputs": [
        {
          "output_type": "execute_result",
          "data": {
            "text/plain": [
              "Pclass            0\n",
              "Sex               0\n",
              "Age             263\n",
              "SibSp             0\n",
              "Parch             0\n",
              "Fare              1\n",
              "Embarked          2\n",
              "Not Survived    418\n",
              "dtype: int64"
            ]
          },
          "metadata": {
            "tags": []
          },
          "execution_count": 127
        }
      ]
    },
    {
      "cell_type": "markdown",
      "metadata": {
        "id": "45yxE4ZvqtB4",
        "colab_type": "text"
      },
      "source": [
        "### 4.4: Completar os valores faltantes:\n",
        "* Age (Idade) e fare (tarifa): Foi calculado o valor da mediana.\n",
        "* Embarked (Porto de Embarque): Foi adicionado o valor com maior frequência."
      ]
    },
    {
      "cell_type": "code",
      "metadata": {
        "id": "onNWNlkKq2Ux",
        "colab_type": "code",
        "colab": {}
      },
      "source": [
        "# age\n",
        "age_median = df_merged['Age'].median()\n",
        "df_merged['Age'].fillna(age_median, inplace=True)\n",
        "\n",
        "# fare\n",
        "fare_median = df_merged['Fare'].median()\n",
        "df_merged['Fare'].fillna(fare_median, inplace=True)\n",
        "\n",
        "# embarked\n",
        "embarked_top = df_merged['Embarked'].value_counts()[0]\n",
        "df_merged['Embarked'].fillna(embarked_top, inplace=True)"
      ],
      "execution_count": 0,
      "outputs": []
    },
    {
      "cell_type": "markdown",
      "metadata": {
        "id": "OJfcWFyEq6SM",
        "colab_type": "text"
      },
      "source": [
        "### 4.5: Preparar as variáveis para o modelo de Machine Learnig.\n",
        "* O modelo matemático exige que trabalhemos com variáveis numéricas, ou seja, temos transformar os dados de entrada que estão em formato categoria para números."
      ]
    },
    {
      "cell_type": "code",
      "metadata": {
        "id": "o2Ica6Cpq8JC",
        "colab_type": "code",
        "outputId": "8aa80984-58e2-4221-9c2f-fa7ae1c54b85",
        "colab": {
          "base_uri": "https://localhost:8080/",
          "height": 204
        }
      },
      "source": [
        "# converter 'Sex' em 0 e 1\n",
        "df_merged['Sex'] = df_merged['Sex'].map({'male': 0, 'female': 1})\n",
        "\n",
        "# dummie variables para 'Embaked'\n",
        "embarked_dummies = pd.get_dummies(df_merged['Embarked'], prefix='Embarked')\n",
        "df_merged = pd.concat([df_merged, embarked_dummies], axis=1)\n",
        "df_merged.drop('Embarked', axis=1, inplace=True)\n",
        "\n",
        "display(df_merged.head())"
      ],
      "execution_count": 129,
      "outputs": [
        {
          "output_type": "display_data",
          "data": {
            "text/html": [
              "<div>\n",
              "<style scoped>\n",
              "    .dataframe tbody tr th:only-of-type {\n",
              "        vertical-align: middle;\n",
              "    }\n",
              "\n",
              "    .dataframe tbody tr th {\n",
              "        vertical-align: top;\n",
              "    }\n",
              "\n",
              "    .dataframe thead th {\n",
              "        text-align: right;\n",
              "    }\n",
              "</style>\n",
              "<table border=\"1\" class=\"dataframe\">\n",
              "  <thead>\n",
              "    <tr style=\"text-align: right;\">\n",
              "      <th></th>\n",
              "      <th>Pclass</th>\n",
              "      <th>Sex</th>\n",
              "      <th>Age</th>\n",
              "      <th>SibSp</th>\n",
              "      <th>Parch</th>\n",
              "      <th>Fare</th>\n",
              "      <th>Not Survived</th>\n",
              "      <th>Embarked_914</th>\n",
              "      <th>Embarked_C</th>\n",
              "      <th>Embarked_Q</th>\n",
              "      <th>Embarked_S</th>\n",
              "    </tr>\n",
              "  </thead>\n",
              "  <tbody>\n",
              "    <tr>\n",
              "      <th>0</th>\n",
              "      <td>3</td>\n",
              "      <td>0</td>\n",
              "      <td>22.0</td>\n",
              "      <td>1</td>\n",
              "      <td>0</td>\n",
              "      <td>7.2500</td>\n",
              "      <td>1.0</td>\n",
              "      <td>0</td>\n",
              "      <td>0</td>\n",
              "      <td>0</td>\n",
              "      <td>1</td>\n",
              "    </tr>\n",
              "    <tr>\n",
              "      <th>1</th>\n",
              "      <td>1</td>\n",
              "      <td>1</td>\n",
              "      <td>38.0</td>\n",
              "      <td>1</td>\n",
              "      <td>0</td>\n",
              "      <td>71.2833</td>\n",
              "      <td>0.0</td>\n",
              "      <td>0</td>\n",
              "      <td>1</td>\n",
              "      <td>0</td>\n",
              "      <td>0</td>\n",
              "    </tr>\n",
              "    <tr>\n",
              "      <th>2</th>\n",
              "      <td>3</td>\n",
              "      <td>1</td>\n",
              "      <td>26.0</td>\n",
              "      <td>0</td>\n",
              "      <td>0</td>\n",
              "      <td>7.9250</td>\n",
              "      <td>0.0</td>\n",
              "      <td>0</td>\n",
              "      <td>0</td>\n",
              "      <td>0</td>\n",
              "      <td>1</td>\n",
              "    </tr>\n",
              "    <tr>\n",
              "      <th>3</th>\n",
              "      <td>1</td>\n",
              "      <td>1</td>\n",
              "      <td>35.0</td>\n",
              "      <td>1</td>\n",
              "      <td>0</td>\n",
              "      <td>53.1000</td>\n",
              "      <td>0.0</td>\n",
              "      <td>0</td>\n",
              "      <td>0</td>\n",
              "      <td>0</td>\n",
              "      <td>1</td>\n",
              "    </tr>\n",
              "    <tr>\n",
              "      <th>4</th>\n",
              "      <td>3</td>\n",
              "      <td>0</td>\n",
              "      <td>35.0</td>\n",
              "      <td>0</td>\n",
              "      <td>0</td>\n",
              "      <td>8.0500</td>\n",
              "      <td>1.0</td>\n",
              "      <td>0</td>\n",
              "      <td>0</td>\n",
              "      <td>0</td>\n",
              "      <td>1</td>\n",
              "    </tr>\n",
              "  </tbody>\n",
              "</table>\n",
              "</div>"
            ],
            "text/plain": [
              "   Pclass  Sex   Age  SibSp  ...  Embarked_914  Embarked_C  Embarked_Q  Embarked_S\n",
              "0       3    0  22.0      1  ...             0           0           0           1\n",
              "1       1    1  38.0      1  ...             0           1           0           0\n",
              "2       3    1  26.0      0  ...             0           0           0           1\n",
              "3       1    1  35.0      1  ...             0           0           0           1\n",
              "4       3    0  35.0      0  ...             0           0           0           1\n",
              "\n",
              "[5 rows x 11 columns]"
            ]
          },
          "metadata": {
            "tags": []
          }
        }
      ]
    },
    {
      "cell_type": "markdown",
      "metadata": {
        "id": "zId7-COLrBQp",
        "colab_type": "text"
      },
      "source": [
        "### 4.6: Recuperar os conjunto de dados de treino e teste."
      ]
    },
    {
      "cell_type": "code",
      "metadata": {
        "id": "tfPGxOW_rCDl",
        "colab_type": "code",
        "colab": {}
      },
      "source": [
        "# recuperar datasets de treino e teste\n",
        "dadostraincsv = df_merged.iloc[:dadostraincsv_idx]\n",
        "dadostestcsv = df_merged.iloc[dadostraincsv_idx:]"
      ],
      "execution_count": 0,
      "outputs": []
    },
    {
      "cell_type": "markdown",
      "metadata": {
        "id": "1bqBEkoX2xAu",
        "colab_type": "text"
      },
      "source": [
        "## Etapa 5 e 6 - Modelagem & Avaliação"
      ]
    },
    {
      "cell_type": "markdown",
      "metadata": {
        "id": "bhKTufj6z-D1",
        "colab_type": "text"
      },
      "source": [
        "### 5.1: Importar bibliotecas do modelo de Machine Learning de Regressão Logística."
      ]
    },
    {
      "cell_type": "code",
      "metadata": {
        "id": "1vwQaK7-z_S8",
        "colab_type": "code",
        "colab": {}
      },
      "source": [
        "from sklearn.linear_model import LogisticRegression"
      ],
      "execution_count": 0,
      "outputs": []
    },
    {
      "cell_type": "code",
      "metadata": {
        "id": "IfJiKziD0BFu",
        "colab_type": "code",
        "outputId": "76d47fd9-98a9-47c7-ed0a-2f84c66288c4",
        "colab": {
          "base_uri": "https://localhost:8080/",
          "height": 34
        }
      },
      "source": [
        "lr_model = LogisticRegression(solver='liblinear')\n",
        "lr_model.fit(dadostraincsv, target)\n",
        "\n",
        "# verificar a acurácia do modelo\n",
        "acc_logReg = round(lr_model.score(dadostraincsv, target) * 100, 2)\n",
        "print(\"Acurácia do modelo de Regressão Logística: {}\".format(acc_logReg))"
      ],
      "execution_count": 132,
      "outputs": [
        {
          "output_type": "stream",
          "text": [
            "Acurácia do modelo de Regressão Logística: 100.0\n"
          ],
          "name": "stdout"
        }
      ]
    },
    {
      "cell_type": "markdown",
      "metadata": {
        "id": "S1o9EK_00HIz",
        "colab_type": "text"
      },
      "source": [
        "### 5.2: Importar biblioteca do modelo de Machine Learning de Árvore de Decisão."
      ]
    },
    {
      "cell_type": "code",
      "metadata": {
        "id": "peFwO6P60HqM",
        "colab_type": "code",
        "colab": {}
      },
      "source": [
        "from sklearn.tree import DecisionTreeClassifier"
      ],
      "execution_count": 0,
      "outputs": []
    },
    {
      "cell_type": "code",
      "metadata": {
        "id": "Amd3bZQt0LRI",
        "colab_type": "code",
        "outputId": "0b35b4ea-07e9-41ba-fc28-578087f2bc0c",
        "colab": {
          "base_uri": "https://localhost:8080/",
          "height": 34
        }
      },
      "source": [
        "# criar um modelo de árvore de decisão\n",
        "tree_model = DecisionTreeClassifier(max_depth=3)\n",
        "tree_model.fit(dadostraincsv, target)\n",
        "\n",
        "# verificar a acurácia do modelo\n",
        "acc_tree = round(tree_model.score(dadostraincsv, target) * 100, 2)\n",
        "print(\"Acurácia do modelo de Árvore de Decisão: {}\".format(acc_tree))"
      ],
      "execution_count": 134,
      "outputs": [
        {
          "output_type": "stream",
          "text": [
            "Acurácia do modelo de Árvore de Decisão: 100.0\n"
          ],
          "name": "stdout"
        }
      ]
    },
    {
      "cell_type": "markdown",
      "metadata": {
        "id": "Mw4NBBb01Die",
        "colab_type": "text"
      },
      "source": [
        "## Etapa 7 - Relatório Científico"
      ]
    },
    {
      "cell_type": "markdown",
      "metadata": {
        "id": "5bPBRIf61DvO",
        "colab_type": "text"
      },
      "source": [
        "## Etapa 8 - Apresentação"
      ]
    }
  ]
}