{
  "nbformat": 4,
  "nbformat_minor": 0,
  "metadata": {
    "colab": {
      "name": "titanic.ipynb",
      "provenance": [],
      "collapsed_sections": [],
      "toc_visible": true,
      "include_colab_link": true
    },
    "kernelspec": {
      "name": "python3",
      "display_name": "Python 3"
    }
  },
  "cells": [
    {
      "cell_type": "markdown",
      "metadata": {
        "id": "view-in-github",
        "colab_type": "text"
      },
      "source": [
        "<a href=\"https://colab.research.google.com/github/PauloSergio0510/cdd_embraer_titanic/blob/master/titanic.ipynb\" target=\"_parent\"><img src=\"https://colab.research.google.com/assets/colab-badge.svg\" alt=\"Open In Colab\"/></a>"
      ]
    },
    {
      "cell_type": "code",
      "metadata": {
        "id": "bskDiDtxYSMl",
        "colab_type": "code",
        "colab": {}
      },
      "source": [
        "import numpy as np\n",
        "import pandas as pd\n",
        "import matplotlib.pyplot as plt"
      ],
      "execution_count": 0,
      "outputs": []
    },
    {
      "cell_type": "code",
      "metadata": {
        "id": "2fAjyUDdY5JM",
        "colab_type": "code",
        "colab": {}
      },
      "source": [
        "file = \"test\"\n",
        "titanic = pd.read_csv(\"train.csv\")"
      ],
      "execution_count": 0,
      "outputs": []
    },
    {
      "cell_type": "code",
      "metadata": {
        "id": "2DHt5AwYY6fQ",
        "colab_type": "code",
        "colab": {}
      },
      "source": [
        "titanic.head()"
      ],
      "execution_count": 0,
      "outputs": []
    },
    {
      "cell_type": "code",
      "metadata": {
        "id": "biAHq3GrZsMG",
        "colab_type": "code",
        "colab": {}
      },
      "source": [
        "def limpa(coluna,valor):\n",
        "    titanic[coluna].fillna(valor,inplace=True)\n",
        "    return titanic.head(6)\n",
        "    \n",
        "    \n",
        "def remove(colunas):\n",
        "    for i in range(0, len(colunas)):\n",
        "        titanic.drop([colunas[i]],axis = 1, inplace = True)\n",
        "    return titanic.head()\n",
        "\n",
        "colunas = ['Pclass','Fare','Ticket','Cabin','PassengerId','SibSp']\n",
        "remove(colunas)"
      ],
      "execution_count": 0,
      "outputs": []
    },
    {
      "cell_type": "code",
      "metadata": {
        "id": "pENwMnxrZufl",
        "colab_type": "code",
        "colab": {}
      },
      "source": [
        "titanic_idade = titanic.copy()\n",
        "titanic_idade.drop(titanic[titanic['Age'].isnull() == True].index ,inplace=True)"
      ],
      "execution_count": 0,
      "outputs": []
    },
    {
      "cell_type": "code",
      "metadata": {
        "id": "Qn24V4wgaCJ8",
        "colab_type": "code",
        "colab": {}
      },
      "source": [
        "titanic['Not Survived'] = titanic['Survived'].map({0:1,1:0})"
      ],
      "execution_count": 0,
      "outputs": []
    },
    {
      "cell_type": "code",
      "metadata": {
        "id": "1CM9bgw6aDxi",
        "colab_type": "code",
        "colab": {}
      },
      "source": [
        "print('Sobreviventes     :', titanic['Survived'].value_counts()[1])\n",
        "print('Não Sobreviventes :', titanic['Survived'].value_counts()[0])"
      ],
      "execution_count": 0,
      "outputs": []
    },
    {
      "cell_type": "code",
      "metadata": {
        "id": "cqDLMc3naEzm",
        "colab_type": "code",
        "colab": {}
      },
      "source": [
        "titanic['Survived'].value_counts().plot.pie(colors=('tab:red', 'tab:blue'), \n",
        "                                       title='Qual a porcentagem dos passageiros sobreviventes?', \n",
        "                                       fontsize=13, shadow=True, startangle=90,autopct='%1.1f%%',\n",
        "                                       labels=('Não sobreviventes','Sobreviventes'),\n",
        "                                       figsize=(5,5)).set_ylabel('')"
      ],
      "execution_count": 0,
      "outputs": []
    },
    {
      "cell_type": "code",
      "metadata": {
        "id": "Nh79G1tOaG8s",
        "colab_type": "code",
        "colab": {}
      },
      "source": [
        "plt.figure();\n",
        "titanic_idade.hist(column='Age', color=('blue'), alpha=0.8, bins=10, figsize=(10,4))\n",
        "plt.title('Faixa Etária dos Passageiros')\n",
        "plt.xlabel('Idade')\n",
        "plt.ylabel('Frequência')"
      ],
      "execution_count": 0,
      "outputs": []
    },
    {
      "cell_type": "code",
      "metadata": {
        "id": "BaAlZLFVad07",
        "colab_type": "code",
        "colab": {}
      },
      "source": [
        "titanic_idade['Crianca_Adulto'] = 0\n",
        "titanic_idade.loc[titanic_idade[titanic_idade['Age'] < 18].index, 'Crianca_Adulto'] = 'Crianças'\n",
        "titanic_idade.loc[titanic_idade[titanic_idade['Age'] >= 18].index, 'Crianca_Adulto'] = 'Adulto'\n",
        "titanic_idade.groupby('Crianca_Adulto')[['Survived']].mean()\n",
        "\n",
        "titanic_idade.groupby('Crianca_Adulto')['Survived'].mean().plot.barh(title='4.3. Média de Sobrevivência', figsize=(10,2.5),\n",
        "                                                                color=('tab:green','tab:blue')).set_ylabel(''),plt.xlabel('')"
      ],
      "execution_count": 0,
      "outputs": []
    }
  ]
}